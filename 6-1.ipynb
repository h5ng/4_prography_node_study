{
  "nbformat": 4,
  "nbformat_minor": 0,
  "metadata": {
    "colab": {
      "name": "6-1.ipynb",
      "provenance": [],
      "collapsed_sections": [],
      "authorship_tag": "ABX9TyPVau1em+d7GC8LrmRmMTsg",
      "include_colab_link": true
    },
    "kernelspec": {
      "name": "python3",
      "display_name": "Python 3"
    }
  },
  "cells": [
    {
      "cell_type": "markdown",
      "metadata": {
        "id": "view-in-github",
        "colab_type": "text"
      },
      "source": [
        "<a href=\"https://colab.research.google.com/github/h5ng/4_prography_node_study/blob/master/6-1.ipynb\" target=\"_parent\"><img src=\"https://colab.research.google.com/assets/colab-badge.svg\" alt=\"Open In Colab\"/></a>"
      ]
    },
    {
      "cell_type": "code",
      "metadata": {
        "id": "NYApzDeWAUwb"
      },
      "source": [
        "import torch\n",
        "from torch import nn, optim\n",
        "from torch.utils.data import (Dataset, DataLoader, TensorDataset)\n",
        "import tqdm\n",
        "import pandas as pd\n",
        "# 훈련 데이터와 테스트 데이터를 나누기 위해 사용한다\n",
        "from sklearn import model_selection"
      ],
      "execution_count": 19,
      "outputs": []
    },
    {
      "cell_type": "code",
      "metadata": {
        "id": "VrfQw6q5Av5J"
      },
      "source": [
        "df = pd.read_csv('./sample_data/ratings.csv')[0:294842]"
      ],
      "execution_count": 18,
      "outputs": []
    },
    {
      "cell_type": "code",
      "metadata": {
        "colab": {
          "base_uri": "https://localhost:8080/"
        },
        "id": "0lAEWdsKBKdd",
        "outputId": "646f5aab-4c60-4827-f701-b5ee9414b990"
      },
      "source": [
        "# X는 (userId, movieId) 쌍\n",
        "X = df[['userId', 'movieId']].values\n",
        "Y = df[['rating']].values\n",
        "\n",
        "print(X)"
      ],
      "execution_count": 20,
      "outputs": [
        {
          "output_type": "stream",
          "text": [
            "[[   1    2]\n",
            " [   1   29]\n",
            " [   1   32]\n",
            " ...\n",
            " [2019 3186]\n",
            " [2019 3201]\n",
            " [2019 3298]]\n"
          ],
          "name": "stdout"
        }
      ]
    },
    {
      "cell_type": "code",
      "metadata": {
        "id": "9yGRxuddBWHp"
      },
      "source": [
        "# 훈련 데이터와 테스트 데이터를 9대 1로 분할\n",
        "train_X, test_X, train_Y, test_Y\\\n",
        " = model_selection.train_test_split(X, Y, test_size=0.1)"
      ],
      "execution_count": 21,
      "outputs": []
    },
    {
      "cell_type": "code",
      "metadata": {
        "id": "6cXpXPopBiMO"
      },
      "source": [
        "# X는 ID이고 정수이므로 int64, Y는 실수이므로 float32의 텐서로 변환\n",
        "train_dataset = TensorDataset(\n",
        "    torch.tensor(train_X, dtype=torch.int64), torch.tensor(train_Y, dtype=torch.float32)\n",
        ")\n",
        "test_dataset = TensorDataset(\n",
        "    torch.tensor(test_X, dtype=torch.int64), torch.tensor(test_Y, dtype=torch.float32)\n",
        ")\n",
        "\n",
        "train_loader = DataLoader(\n",
        "    train_dataset, batch_size=1024, num_workers=4, shuffle=True\n",
        ")\n",
        "\n",
        "test_loader = DataLoader(\n",
        "    test_dataset, batch_size=1024, num_workers=4\n",
        ")"
      ],
      "execution_count": 22,
      "outputs": []
    },
    {
      "cell_type": "code",
      "metadata": {
        "id": "rJNhJXfFCogI"
      },
      "source": [
        "class MatrixFactorization(nn.Module):\n",
        "  def __init__(self, max_user, max_item, k=20):\n",
        "    super().__init__()\n",
        "    self.max_user = max_user\n",
        "    self.max_item = max_item\n",
        "    self.user_emb = nn.Embedding(max_user, k, 0)\n",
        "    self.item_emb = nn.Embedding(max_item, k, 0)\n",
        "\n",
        "  def forward(self, x):\n",
        "    user_idx = x[:, 0]\n",
        "    item_idx = x[:, 1]\n",
        "    user_feature = self.user_emb(user_idx)\n",
        "    item_feature = self.item_emb(item_idx)\n",
        "\n",
        "    # user_feature * item_feature는 (batch_size, k)차원이므로\n",
        "    # k의 sum을 구하면 각 샘플의 내적이 된다.\n",
        "    out = torch.sum(user_feature * item_feature, 1)\n",
        "\n",
        "    # [0, 5] 범위 내로 조정\n",
        "    out = nn.functional.sigmoid(out) * 5\n",
        "    return out"
      ],
      "execution_count": 23,
      "outputs": []
    },
    {
      "cell_type": "code",
      "metadata": {
        "colab": {
          "base_uri": "https://localhost:8080/"
        },
        "id": "s3Om6jdIEh2P",
        "outputId": "103ea0b3-4ab9-4831-8e00-92f93f8b8218"
      },
      "source": [
        "max_user, max_item = X.max(0)\n",
        "print(X.max(0))\n",
        "# np.int64형을 파이썬의 표준 int로 캐스트\n",
        "max_user = int(max_user)\n",
        "max_item = int(max_item)\n",
        "\n",
        "net = MatrixFactorization(max_user+1, max_item+1)"
      ],
      "execution_count": 24,
      "outputs": [
        {
          "output_type": "stream",
          "text": [
            "[  2019 130219]\n"
          ],
          "name": "stdout"
        }
      ]
    },
    {
      "cell_type": "code",
      "metadata": {
        "id": "r4Yfjta7EuFH"
      },
      "source": [
        "# 평가 함수\n",
        "def eval_net(net, loader, score_fn=nn.functional.l1_loss, device=\"cpu\"):\n",
        "  ys = []\n",
        "  ypreds = []\n",
        "  for x, y in loader:\n",
        "    x = x.to(device)\n",
        "    ys.append(y)\n",
        "    with torch.no_grad():\n",
        "      ypred = net(x).to(\"cpu\").view(-1)\n",
        "      ypreds.append(ypred)\n",
        "    ypreds.append(ypred)\n",
        "  score = score_fn(torch.cat(ys).squeeze(), torch.cat(ypreds))\n",
        "  return score.item()"
      ],
      "execution_count": 24,
      "outputs": []
    }
  ]
}